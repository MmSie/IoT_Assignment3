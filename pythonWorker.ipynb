{
 "cells": [
  {
   "cell_type": "code",
   "execution_count": null,
   "metadata": {
    "collapsed": true
   },
   "outputs": [],
   "source": [
    "import requests\n",
    "import json\n",
    "import time\n",
    "\n",
    "url = 'https://siddhi19.bpmcep.ics.unisg.ch/engine-rest/external-task/fetchAndLock'\n",
    "\n",
    "fetchAndLockPayload = {\"workerId\": \"myExampleWorker\",\n",
    "                       \"maxTasks\": 1,\n",
    "                       \"usePriority\": \"true\",\n",
    "                       \"topics\":\n",
    "                           [{\"topicName\": \"charge-card\",\n",
    "                             \"lockDuration\": 30000\n",
    "                             }]\n",
    "                       }\n",
    "\n",
    "try:\n",
    "    while True:\n",
    "\n",
    "        # Fetch and Lock\n",
    "        try:\n",
    "            res = requests.post(url, json=fetchAndLockPayload)\n",
    "            print('Fetch and lock status code: ', res.status_code)\n",
    "\n",
    "            # Get Body Text\n",
    "            body = res.text\n",
    "            print('Fetch and lock response: ', body)\n",
    "\n",
    "        except:\n",
    "            print('Engine is down')\n",
    "\n",
    "        while body == '[]':\n",
    "            time.sleep(5)\n",
    "            res = requests.post(url, json=fetchAndLockPayload)\n",
    "            body = res.text\n",
    "            print('Fetch and lock response: ', body)\n",
    "\n",
    "            if body != '[]':\n",
    "                break\n",
    "\n",
    "        # Put you Business Logic here\n",
    "        print('Deduct existing credit')\n",
    "\n",
    "        # Prepare url with task id and the response body\n",
    "        response = json.loads(body)\n",
    "        taskId = response[0]['id']\n",
    "        taskId = str(taskId)\n",
    "\n",
    "        complete_url = ('https://siddhi19.bpmcep.ics.unisg.ch/engine-rest/external-task/'\n",
    "                        + taskId + '/complete')\n",
    "\n",
    "        response = {\n",
    "            \"workerId\": \"myExampleWorker\",\n",
    "        }\n",
    "\n",
    "        # API call (Complete)\n",
    "        try:\n",
    "            complete = requests.post(complete_url, json=response)\n",
    "            print('complete status code: ', complete.status_code)\n",
    "\n",
    "        except:\n",
    "            print('failed')\n",
    "\n",
    "except KeyboardInterrupt:\n",
    "    pass"
   ]
  },
  {
   "cell_type": "code",
   "execution_count": null,
   "outputs": [],
   "source": [],
   "metadata": {
    "collapsed": false,
    "pycharm": {
     "name": "#%%\n"
    }
   }
  }
 ],
 "metadata": {
  "kernelspec": {
   "display_name": "Python 3",
   "language": "python",
   "name": "python3"
  },
  "language_info": {
   "codemirror_mode": {
    "name": "ipython",
    "version": 2
   },
   "file_extension": ".py",
   "mimetype": "text/x-python",
   "name": "python",
   "nbconvert_exporter": "python",
   "pygments_lexer": "ipython2",
   "version": "2.7.6"
  }
 },
 "nbformat": 4,
 "nbformat_minor": 0
}