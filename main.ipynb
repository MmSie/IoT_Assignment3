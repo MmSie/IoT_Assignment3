{
 "cells": [
  {
   "cell_type": "code",
   "execution_count": 1,
   "outputs": [],
   "source": [
    "import pandas as pd\n",
    "import os"
   ],
   "metadata": {
    "collapsed": false,
    "ExecuteTime": {
     "start_time": "2023-05-03T18:09:56.093715Z",
     "end_time": "2023-05-03T18:09:59.367003Z"
    }
   }
  },
  {
   "cell_type": "code",
   "execution_count": 2,
   "outputs": [],
   "source": [
    "csv_file = os.path.expanduser(\"~/Desktop/abcnews-date-text.csv\")\n",
    "articles1 = pd.read_csv(csv_file, encoding=\"utf-8\")"
   ],
   "metadata": {
    "collapsed": false,
    "ExecuteTime": {
     "start_time": "2023-05-03T18:09:57.682869Z",
     "end_time": "2023-05-03T18:09:59.381519Z"
    }
   }
  },
  {
   "cell_type": "code",
   "execution_count": 2,
   "metadata": {
    "collapsed": true,
    "ExecuteTime": {
     "start_time": "2023-05-03T17:55:11.875490Z",
     "end_time": "2023-05-03T17:55:14.500262Z"
    }
   },
   "outputs": [],
   "source": [
    "csv_file = os.path.expanduser(\"~/Desktop/articles1.csv\")\n",
    "articles1 = pd.read_csv(csv_file, encoding=\"utf-8\")"
   ]
  },
  {
   "cell_type": "code",
   "execution_count": 3,
   "outputs": [
    {
     "name": "stdout",
     "output_type": "stream",
     "text": [
      "<class 'pandas.core.frame.DataFrame'>\n",
      "RangeIndex: 50000 entries, 0 to 49999\n",
      "Data columns (total 10 columns):\n",
      " #   Column       Non-Null Count  Dtype  \n",
      "---  ------       --------------  -----  \n",
      " 0   Unnamed: 0   50000 non-null  int64  \n",
      " 1   id           50000 non-null  int64  \n",
      " 2   title        50000 non-null  object \n",
      " 3   publication  50000 non-null  object \n",
      " 4   author       43694 non-null  object \n",
      " 5   date         50000 non-null  object \n",
      " 6   year         50000 non-null  float64\n",
      " 7   month        50000 non-null  float64\n",
      " 8   url          0 non-null      float64\n",
      " 9   content      50000 non-null  object \n",
      "dtypes: float64(3), int64(2), object(5)\n",
      "memory usage: 3.8+ MB\n"
     ]
    }
   ],
   "source": [
    "articles1.info()"
   ],
   "metadata": {
    "collapsed": false,
    "ExecuteTime": {
     "start_time": "2023-05-03T17:55:14.504280Z",
     "end_time": "2023-05-03T17:55:14.581415Z"
    }
   }
  },
  {
   "cell_type": "code",
   "execution_count": 4,
   "outputs": [],
   "source": [
    "csv_file = os.path.expanduser(\"~/Desktop/articles2.csv\")\n",
    "articles2 = pd.read_csv(csv_file, encoding=\"utf-8\")"
   ],
   "metadata": {
    "collapsed": false,
    "ExecuteTime": {
     "start_time": "2023-05-03T17:55:14.581415Z",
     "end_time": "2023-05-03T17:55:17.333239Z"
    }
   }
  },
  {
   "cell_type": "code",
   "execution_count": 5,
   "outputs": [
    {
     "name": "stdout",
     "output_type": "stream",
     "text": [
      "<class 'pandas.core.frame.DataFrame'>\n",
      "RangeIndex: 49999 entries, 0 to 49998\n",
      "Data columns (total 10 columns):\n",
      " #   Column       Non-Null Count  Dtype  \n",
      "---  ------       --------------  -----  \n",
      " 0   Unnamed: 0   49999 non-null  int64  \n",
      " 1   id           49999 non-null  int64  \n",
      " 2   title        49998 non-null  object \n",
      " 3   publication  49999 non-null  object \n",
      " 4   author       41401 non-null  object \n",
      " 5   date         47373 non-null  object \n",
      " 6   year         47373 non-null  float64\n",
      " 7   month        47373 non-null  float64\n",
      " 8   url          42988 non-null  object \n",
      " 9   content      49999 non-null  object \n",
      "dtypes: float64(2), int64(2), object(6)\n",
      "memory usage: 3.8+ MB\n"
     ]
    }
   ],
   "source": [
    "articles2.info()"
   ],
   "metadata": {
    "collapsed": false,
    "ExecuteTime": {
     "start_time": "2023-05-03T17:55:17.332208Z",
     "end_time": "2023-05-03T17:55:17.403759Z"
    }
   }
  },
  {
   "cell_type": "code",
   "execution_count": 6,
   "outputs": [],
   "source": [
    "csv_file = os.path.expanduser(\"~/Desktop/articles3.csv\")\n",
    "articles3 = pd.read_csv(csv_file, encoding=\"utf-8\")"
   ],
   "metadata": {
    "collapsed": false,
    "ExecuteTime": {
     "start_time": "2023-05-03T17:55:17.407795Z",
     "end_time": "2023-05-03T17:55:20.201028Z"
    }
   }
  },
  {
   "cell_type": "code",
   "execution_count": null,
   "outputs": [],
   "source": [
    "merged_articles = pd.concat([articles2], axis=0, ignore_index=True)"
   ],
   "metadata": {
    "collapsed": false,
    "ExecuteTime": {
     "start_time": "2023-05-03T17:55:20.264154Z",
     "end_time": "2023-05-03T17:55:20.320366Z"
    },
    "pycharm": {
     "is_executing": true
    }
   }
  },
  {
   "cell_type": "code",
   "execution_count": 9,
   "outputs": [
    {
     "name": "stdout",
     "output_type": "stream",
     "text": [
      "<class 'pandas.core.frame.DataFrame'>\n",
      "RangeIndex: 142570 entries, 0 to 142569\n",
      "Data columns (total 10 columns):\n",
      " #   Column       Non-Null Count   Dtype  \n",
      "---  ------       --------------   -----  \n",
      " 0   Unnamed: 0   142570 non-null  int64  \n",
      " 1   id           142570 non-null  int64  \n",
      " 2   title        142568 non-null  object \n",
      " 3   publication  142570 non-null  object \n",
      " 4   author       126694 non-null  object \n",
      " 5   date         139929 non-null  object \n",
      " 6   year         139929 non-null  float64\n",
      " 7   month        139929 non-null  float64\n",
      " 8   url          85559 non-null   object \n",
      " 9   content      142570 non-null  object \n",
      "dtypes: float64(2), int64(2), object(6)\n",
      "memory usage: 10.9+ MB\n"
     ]
    }
   ],
   "source": [
    "merged_articles.info()"
   ],
   "metadata": {
    "collapsed": false,
    "ExecuteTime": {
     "start_time": "2023-05-03T17:55:20.325906Z",
     "end_time": "2023-05-03T17:55:20.494088Z"
    }
   }
  },
  {
   "cell_type": "code",
   "execution_count": 6,
   "outputs": [],
   "source": [
    "json_string = articles1.to_json(orient=\"records\")"
   ],
   "metadata": {
    "collapsed": false,
    "ExecuteTime": {
     "start_time": "2023-05-03T18:17:25.061811Z",
     "end_time": "2023-05-03T18:17:26.097313Z"
    }
   }
  },
  {
   "cell_type": "code",
   "execution_count": 7,
   "outputs": [],
   "source": [
    "import json\n",
    "\n",
    "json_data = json.loads(json_string)"
   ],
   "metadata": {
    "collapsed": false,
    "ExecuteTime": {
     "start_time": "2023-05-03T18:17:27.890991Z",
     "end_time": "2023-05-03T18:17:29.062227Z"
    }
   }
  },
  {
   "cell_type": "code",
   "execution_count": 4,
   "outputs": [
    {
     "name": "stdout",
     "output_type": "stream",
     "text": [
      "Requirement already satisfied: paho-mqtt in c:\\users\\marc_\\anaconda3\\lib\\site-packages (1.6.1)\n",
      "Note: you may need to restart the kernel to use updated packages.\n"
     ]
    }
   ],
   "source": [
    "pip install paho-mqtt"
   ],
   "metadata": {
    "collapsed": false,
    "ExecuteTime": {
     "start_time": "2023-05-03T18:10:07.513313Z",
     "end_time": "2023-05-03T18:10:13.254292Z"
    }
   }
  },
  {
   "cell_type": "code",
   "execution_count": 5,
   "outputs": [],
   "source": [
    "import json\n",
    "\n",
    "# Change the file path to your desktop location\n",
    "file_path = os.path.expanduser(\"~/Desktop/headlines.json\")\n",
    "\n",
    "with open(file_path, \"w\", encoding=\"utf-8\") as file:\n",
    "    json.dump(json_data, file, ensure_ascii=False, indent=4)"
   ],
   "metadata": {
    "collapsed": false,
    "ExecuteTime": {
     "start_time": "2023-05-03T18:10:13.255408Z",
     "end_time": "2023-05-03T18:10:14.035805Z"
    }
   }
  },
  {
   "cell_type": "code",
   "execution_count": null,
   "outputs": [
    {
     "name": "stdout",
     "output_type": "stream",
     "text": [
      "Connected with result code 0\n",
      "Sent test message: {'key': 'value'}\n"
     ]
    }
   ],
   "source": [
    "import paho.mqtt.client as mqtt\n",
    "import json\n",
    "\n",
    "def on_connect(client, userdata, flags, rc):\n",
    "    print(\"Connected with result code \" + str(rc))\n",
    "    test_message = {\"key\": \"value\"}  # Simple JSON message\n",
    "    client.publish(\"your/topic\", json.dumps(test_message))\n",
    "    print(\"Sent test message:\", test_message)\n",
    "\n",
    "client = mqtt.Client()\n",
    "client.on_connect = on_connect\n",
    "\n",
    "client.username_pw_set(\"username\", \"password\")  # If required\n",
    "client.connect(\"127.0.0.1\", 1883, 60)\n",
    "\n",
    "client.loop_forever()"
   ],
   "metadata": {
    "collapsed": false,
    "pycharm": {
     "is_executing": true
    }
   }
  },
  {
   "cell_type": "code",
   "execution_count": 9,
   "outputs": [
    {
     "name": "stdout",
     "output_type": "stream",
     "text": [
      "Connected with result code 0\n",
      "Sent record: {'publish_date': 20030219, 'headline_text': 'aba decides against community broadcasting licence'}\n",
      "Sent record: {'publish_date': 20030219, 'headline_text': 'act fire witnesses must be aware of defamation'}\n",
      "Sent record: {'publish_date': 20030219, 'headline_text': 'a g calls for infrastructure protection summit'}\n",
      "Sent record: {'publish_date': 20030219, 'headline_text': 'air nz staff in aust strike for pay rise'}\n",
      "Sent record: {'publish_date': 20030219, 'headline_text': 'air nz strike to affect australian travellers'}\n",
      "Sent record: {'publish_date': 20030219, 'headline_text': 'ambitious olsson wins triple jump'}\n",
      "Sent record: {'publish_date': 20030219, 'headline_text': 'antic delighted with record breaking barca'}\n",
      "Sent record: {'publish_date': 20030219, 'headline_text': 'aussie qualifier stosur wastes four memphis match'}\n",
      "Sent record: {'publish_date': 20030219, 'headline_text': 'aust addresses un security council over iraq'}\n",
      "Sent record: {'publish_date': 20030219, 'headline_text': 'australia is locked into war timetable opp'}\n",
      "Sent record: {'publish_date': 20030219, 'headline_text': 'australia to contribute 10 million in aid to iraq'}\n",
      "Sent record: {'publish_date': 20030219, 'headline_text': 'barca take record as robson celebrates birthday in'}\n",
      "Sent record: {'publish_date': 20030219, 'headline_text': 'bathhouse plans move ahead'}\n",
      "Sent record: {'publish_date': 20030219, 'headline_text': 'big hopes for launceston cycling championship'}\n",
      "Sent record: {'publish_date': 20030219, 'headline_text': 'big plan to boost paroo water supplies'}\n",
      "Sent record: {'publish_date': 20030219, 'headline_text': 'blizzard buries united states in bills'}\n",
      "Sent record: {'publish_date': 20030219, 'headline_text': 'brigadier dismisses reports troops harassed in'}\n",
      "Sent record: {'publish_date': 20030219, 'headline_text': 'british combat troops arriving daily in kuwait'}\n",
      "Sent record: {'publish_date': 20030219, 'headline_text': 'bryant leads lakers to double overtime win'}\n",
      "Sent record: {'publish_date': 20030219, 'headline_text': 'bushfire victims urged to see centrelink'}\n",
      "Sent record: {'publish_date': 20030219, 'headline_text': 'businesses should prepare for terrorist attacks'}\n",
      "Sent record: {'publish_date': 20030219, 'headline_text': 'calleri avenges final defeat to eliminate massu'}\n",
      "Sent record: {'publish_date': 20030219, 'headline_text': 'call for ethanol blend fuel to go ahead'}\n",
      "Sent record: {'publish_date': 20030219, 'headline_text': 'carews freak goal leaves roma in ruins'}\n",
      "Sent record: {'publish_date': 20030219, 'headline_text': 'cemeteries miss out on funds'}\n",
      "Sent record: {'publish_date': 20030219, 'headline_text': 'code of conduct toughens organ donation regulations'}\n",
      "Sent record: {'publish_date': 20030219, 'headline_text': 'commonwealth bank cuts fixed home loan rates'}\n",
      "Sent record: {'publish_date': 20030219, 'headline_text': 'community urged to help homeless youth'}\n",
      "Sent record: {'publish_date': 20030219, 'headline_text': 'council chief executive fails to secure position'}\n",
      "Sent record: {'publish_date': 20030219, 'headline_text': 'councillor to contest wollongong as independent'}\n",
      "Sent record: {'publish_date': 20030219, 'headline_text': 'council moves to protect tas heritage garden'}\n",
      "Sent record: {'publish_date': 20030219, 'headline_text': 'council welcomes ambulance levy decision'}\n",
      "Sent record: {'publish_date': 20030219, 'headline_text': 'council welcomes insurance breakthrough'}\n",
      "Sent record: {'publish_date': 20030219, 'headline_text': 'crean tells alp leadership critics to shut up'}\n",
      "Sent record: {'publish_date': 20030219, 'headline_text': 'dargo fire threat expected to rise'}\n",
      "Sent record: {'publish_date': 20030219, 'headline_text': 'death toll continues to climb in south korean subway'}\n",
      "Sent record: {'publish_date': 20030219, 'headline_text': 'dems hold plebiscite over iraqi conflict'}\n",
      "Sent record: {'publish_date': 20030219, 'headline_text': 'dent downs philippoussis in tie break thriller'}\n"
     ]
    },
    {
     "ename": "KeyboardInterrupt",
     "evalue": "",
     "output_type": "error",
     "traceback": [
      "\u001B[1;31m---------------------------------------------------------------------------\u001B[0m",
      "\u001B[1;31mKeyboardInterrupt\u001B[0m                         Traceback (most recent call last)",
      "\u001B[1;32m~\\AppData\\Local\\Temp\\ipykernel_15392\\2032424544.py\u001B[0m in \u001B[0;36m<module>\u001B[1;34m\u001B[0m\n\u001B[0;32m     16\u001B[0m \u001B[0mclient\u001B[0m\u001B[1;33m.\u001B[0m\u001B[0mconnect\u001B[0m\u001B[1;33m(\u001B[0m\u001B[1;34m\"127.0.0.1\"\u001B[0m\u001B[1;33m,\u001B[0m \u001B[1;36m1883\u001B[0m\u001B[1;33m,\u001B[0m \u001B[1;36m60\u001B[0m\u001B[1;33m)\u001B[0m\u001B[1;33m\u001B[0m\u001B[1;33m\u001B[0m\u001B[0m\n\u001B[0;32m     17\u001B[0m \u001B[1;33m\u001B[0m\u001B[0m\n\u001B[1;32m---> 18\u001B[1;33m \u001B[0mclient\u001B[0m\u001B[1;33m.\u001B[0m\u001B[0mloop_forever\u001B[0m\u001B[1;33m(\u001B[0m\u001B[1;33m)\u001B[0m\u001B[1;33m\u001B[0m\u001B[1;33m\u001B[0m\u001B[0m\n\u001B[0m",
      "\u001B[1;32m~\\anaconda3\\lib\\site-packages\\paho\\mqtt\\client.py\u001B[0m in \u001B[0;36mloop_forever\u001B[1;34m(self, timeout, max_packets, retry_first_connection)\u001B[0m\n\u001B[0;32m   1754\u001B[0m             \u001B[0mrc\u001B[0m \u001B[1;33m=\u001B[0m \u001B[0mMQTT_ERR_SUCCESS\u001B[0m\u001B[1;33m\u001B[0m\u001B[1;33m\u001B[0m\u001B[0m\n\u001B[0;32m   1755\u001B[0m             \u001B[1;32mwhile\u001B[0m \u001B[0mrc\u001B[0m \u001B[1;33m==\u001B[0m \u001B[0mMQTT_ERR_SUCCESS\u001B[0m\u001B[1;33m:\u001B[0m\u001B[1;33m\u001B[0m\u001B[1;33m\u001B[0m\u001B[0m\n\u001B[1;32m-> 1756\u001B[1;33m                 \u001B[0mrc\u001B[0m \u001B[1;33m=\u001B[0m \u001B[0mself\u001B[0m\u001B[1;33m.\u001B[0m\u001B[0m_loop\u001B[0m\u001B[1;33m(\u001B[0m\u001B[0mtimeout\u001B[0m\u001B[1;33m)\u001B[0m\u001B[1;33m\u001B[0m\u001B[1;33m\u001B[0m\u001B[0m\n\u001B[0m\u001B[0;32m   1757\u001B[0m                 \u001B[1;31m# We don't need to worry about locking here, because we've\u001B[0m\u001B[1;33m\u001B[0m\u001B[1;33m\u001B[0m\u001B[0m\n\u001B[0;32m   1758\u001B[0m                 \u001B[1;31m# either called loop_forever() when in single threaded mode, or\u001B[0m\u001B[1;33m\u001B[0m\u001B[1;33m\u001B[0m\u001B[0m\n",
      "\u001B[1;32m~\\anaconda3\\lib\\site-packages\\paho\\mqtt\\client.py\u001B[0m in \u001B[0;36m_loop\u001B[1;34m(self, timeout)\u001B[0m\n\u001B[0;32m   1162\u001B[0m \u001B[1;33m\u001B[0m\u001B[0m\n\u001B[0;32m   1163\u001B[0m         \u001B[1;32mif\u001B[0m \u001B[0mself\u001B[0m\u001B[1;33m.\u001B[0m\u001B[0m_sock\u001B[0m \u001B[1;32min\u001B[0m \u001B[0msocklist\u001B[0m\u001B[1;33m[\u001B[0m\u001B[1;36m0\u001B[0m\u001B[1;33m]\u001B[0m \u001B[1;32mor\u001B[0m \u001B[0mpending_bytes\u001B[0m \u001B[1;33m>\u001B[0m \u001B[1;36m0\u001B[0m\u001B[1;33m:\u001B[0m\u001B[1;33m\u001B[0m\u001B[1;33m\u001B[0m\u001B[0m\n\u001B[1;32m-> 1164\u001B[1;33m             \u001B[0mrc\u001B[0m \u001B[1;33m=\u001B[0m \u001B[0mself\u001B[0m\u001B[1;33m.\u001B[0m\u001B[0mloop_read\u001B[0m\u001B[1;33m(\u001B[0m\u001B[1;33m)\u001B[0m\u001B[1;33m\u001B[0m\u001B[1;33m\u001B[0m\u001B[0m\n\u001B[0m\u001B[0;32m   1165\u001B[0m             \u001B[1;32mif\u001B[0m \u001B[0mrc\u001B[0m \u001B[1;32mor\u001B[0m \u001B[0mself\u001B[0m\u001B[1;33m.\u001B[0m\u001B[0m_sock\u001B[0m \u001B[1;32mis\u001B[0m \u001B[1;32mNone\u001B[0m\u001B[1;33m:\u001B[0m\u001B[1;33m\u001B[0m\u001B[1;33m\u001B[0m\u001B[0m\n\u001B[0;32m   1166\u001B[0m                 \u001B[1;32mreturn\u001B[0m \u001B[0mrc\u001B[0m\u001B[1;33m\u001B[0m\u001B[1;33m\u001B[0m\u001B[0m\n",
      "\u001B[1;32m~\\anaconda3\\lib\\site-packages\\paho\\mqtt\\client.py\u001B[0m in \u001B[0;36mloop_read\u001B[1;34m(self, max_packets)\u001B[0m\n\u001B[0;32m   1554\u001B[0m             \u001B[1;32mif\u001B[0m \u001B[0mself\u001B[0m\u001B[1;33m.\u001B[0m\u001B[0m_sock\u001B[0m \u001B[1;32mis\u001B[0m \u001B[1;32mNone\u001B[0m\u001B[1;33m:\u001B[0m\u001B[1;33m\u001B[0m\u001B[1;33m\u001B[0m\u001B[0m\n\u001B[0;32m   1555\u001B[0m                 \u001B[1;32mreturn\u001B[0m \u001B[0mMQTT_ERR_NO_CONN\u001B[0m\u001B[1;33m\u001B[0m\u001B[1;33m\u001B[0m\u001B[0m\n\u001B[1;32m-> 1556\u001B[1;33m             \u001B[0mrc\u001B[0m \u001B[1;33m=\u001B[0m \u001B[0mself\u001B[0m\u001B[1;33m.\u001B[0m\u001B[0m_packet_read\u001B[0m\u001B[1;33m(\u001B[0m\u001B[1;33m)\u001B[0m\u001B[1;33m\u001B[0m\u001B[1;33m\u001B[0m\u001B[0m\n\u001B[0m\u001B[0;32m   1557\u001B[0m             \u001B[1;32mif\u001B[0m \u001B[0mrc\u001B[0m \u001B[1;33m>\u001B[0m \u001B[1;36m0\u001B[0m\u001B[1;33m:\u001B[0m\u001B[1;33m\u001B[0m\u001B[1;33m\u001B[0m\u001B[0m\n\u001B[0;32m   1558\u001B[0m                 \u001B[1;32mreturn\u001B[0m \u001B[0mself\u001B[0m\u001B[1;33m.\u001B[0m\u001B[0m_loop_rc_handle\u001B[0m\u001B[1;33m(\u001B[0m\u001B[0mrc\u001B[0m\u001B[1;33m)\u001B[0m\u001B[1;33m\u001B[0m\u001B[1;33m\u001B[0m\u001B[0m\n",
      "\u001B[1;32m~\\anaconda3\\lib\\site-packages\\paho\\mqtt\\client.py\u001B[0m in \u001B[0;36m_packet_read\u001B[1;34m(self)\u001B[0m\n\u001B[0;32m   2437\u001B[0m         \u001B[1;31m# All data for this packet is read.\u001B[0m\u001B[1;33m\u001B[0m\u001B[1;33m\u001B[0m\u001B[0m\n\u001B[0;32m   2438\u001B[0m         \u001B[0mself\u001B[0m\u001B[1;33m.\u001B[0m\u001B[0m_in_packet\u001B[0m\u001B[1;33m[\u001B[0m\u001B[1;34m'pos'\u001B[0m\u001B[1;33m]\u001B[0m \u001B[1;33m=\u001B[0m \u001B[1;36m0\u001B[0m\u001B[1;33m\u001B[0m\u001B[1;33m\u001B[0m\u001B[0m\n\u001B[1;32m-> 2439\u001B[1;33m         \u001B[0mrc\u001B[0m \u001B[1;33m=\u001B[0m \u001B[0mself\u001B[0m\u001B[1;33m.\u001B[0m\u001B[0m_packet_handle\u001B[0m\u001B[1;33m(\u001B[0m\u001B[1;33m)\u001B[0m\u001B[1;33m\u001B[0m\u001B[1;33m\u001B[0m\u001B[0m\n\u001B[0m\u001B[0;32m   2440\u001B[0m \u001B[1;33m\u001B[0m\u001B[0m\n\u001B[0;32m   2441\u001B[0m         \u001B[1;31m# Free data and reset values\u001B[0m\u001B[1;33m\u001B[0m\u001B[1;33m\u001B[0m\u001B[0m\n",
      "\u001B[1;32m~\\anaconda3\\lib\\site-packages\\paho\\mqtt\\client.py\u001B[0m in \u001B[0;36m_packet_handle\u001B[1;34m(self)\u001B[0m\n\u001B[0;32m   3037\u001B[0m             \u001B[1;32mreturn\u001B[0m \u001B[0mself\u001B[0m\u001B[1;33m.\u001B[0m\u001B[0m_handle_pubrel\u001B[0m\u001B[1;33m(\u001B[0m\u001B[1;33m)\u001B[0m\u001B[1;33m\u001B[0m\u001B[1;33m\u001B[0m\u001B[0m\n\u001B[0;32m   3038\u001B[0m         \u001B[1;32melif\u001B[0m \u001B[0mcmd\u001B[0m \u001B[1;33m==\u001B[0m \u001B[0mCONNACK\u001B[0m\u001B[1;33m:\u001B[0m\u001B[1;33m\u001B[0m\u001B[1;33m\u001B[0m\u001B[0m\n\u001B[1;32m-> 3039\u001B[1;33m             \u001B[1;32mreturn\u001B[0m \u001B[0mself\u001B[0m\u001B[1;33m.\u001B[0m\u001B[0m_handle_connack\u001B[0m\u001B[1;33m(\u001B[0m\u001B[1;33m)\u001B[0m\u001B[1;33m\u001B[0m\u001B[1;33m\u001B[0m\u001B[0m\n\u001B[0m\u001B[0;32m   3040\u001B[0m         \u001B[1;32melif\u001B[0m \u001B[0mcmd\u001B[0m \u001B[1;33m==\u001B[0m \u001B[0mSUBACK\u001B[0m\u001B[1;33m:\u001B[0m\u001B[1;33m\u001B[0m\u001B[1;33m\u001B[0m\u001B[0m\n\u001B[0;32m   3041\u001B[0m             \u001B[1;32mreturn\u001B[0m \u001B[0mself\u001B[0m\u001B[1;33m.\u001B[0m\u001B[0m_handle_suback\u001B[0m\u001B[1;33m(\u001B[0m\u001B[1;33m)\u001B[0m\u001B[1;33m\u001B[0m\u001B[1;33m\u001B[0m\u001B[0m\n",
      "\u001B[1;32m~\\anaconda3\\lib\\site-packages\\paho\\mqtt\\client.py\u001B[0m in \u001B[0;36m_handle_connack\u001B[1;34m(self)\u001B[0m\n\u001B[0;32m   3136\u001B[0m                                         flags_dict, reason, properties)\n\u001B[0;32m   3137\u001B[0m                     \u001B[1;32melse\u001B[0m\u001B[1;33m:\u001B[0m\u001B[1;33m\u001B[0m\u001B[1;33m\u001B[0m\u001B[0m\n\u001B[1;32m-> 3138\u001B[1;33m                         on_connect(\n\u001B[0m\u001B[0;32m   3139\u001B[0m                             self, self._userdata, flags_dict, result)\n\u001B[0;32m   3140\u001B[0m                 \u001B[1;32mexcept\u001B[0m \u001B[0mException\u001B[0m \u001B[1;32mas\u001B[0m \u001B[0merr\u001B[0m\u001B[1;33m:\u001B[0m\u001B[1;33m\u001B[0m\u001B[1;33m\u001B[0m\u001B[0m\n",
      "\u001B[1;32m~\\AppData\\Local\\Temp\\ipykernel_15392\\2032424544.py\u001B[0m in \u001B[0;36mon_connect\u001B[1;34m(client, userdata, flags, rc)\u001B[0m\n\u001B[0;32m      8\u001B[0m         \u001B[0mclient\u001B[0m\u001B[1;33m.\u001B[0m\u001B[0mpublish\u001B[0m\u001B[1;33m(\u001B[0m\u001B[1;34m\"your/topic\"\u001B[0m\u001B[1;33m,\u001B[0m \u001B[0mjson\u001B[0m\u001B[1;33m.\u001B[0m\u001B[0mdumps\u001B[0m\u001B[1;33m(\u001B[0m\u001B[0mrecord\u001B[0m\u001B[1;33m)\u001B[0m\u001B[1;33m)\u001B[0m\u001B[1;33m\u001B[0m\u001B[1;33m\u001B[0m\u001B[0m\n\u001B[0;32m      9\u001B[0m         \u001B[0mprint\u001B[0m\u001B[1;33m(\u001B[0m\u001B[1;34mf\"Sent record: {record}\"\u001B[0m\u001B[1;33m)\u001B[0m  \u001B[1;31m# Print the sent record\u001B[0m\u001B[1;33m\u001B[0m\u001B[1;33m\u001B[0m\u001B[0m\n\u001B[1;32m---> 10\u001B[1;33m         \u001B[0mtime\u001B[0m\u001B[1;33m.\u001B[0m\u001B[0msleep\u001B[0m\u001B[1;33m(\u001B[0m\u001B[1;36m1\u001B[0m\u001B[1;33m)\u001B[0m  \u001B[1;31m# Wait for 1 second\u001B[0m\u001B[1;33m\u001B[0m\u001B[1;33m\u001B[0m\u001B[0m\n\u001B[0m\u001B[0;32m     11\u001B[0m \u001B[1;33m\u001B[0m\u001B[0m\n\u001B[0;32m     12\u001B[0m \u001B[0mclient\u001B[0m \u001B[1;33m=\u001B[0m \u001B[0mmqtt\u001B[0m\u001B[1;33m.\u001B[0m\u001B[0mClient\u001B[0m\u001B[1;33m(\u001B[0m\u001B[1;33m)\u001B[0m\u001B[1;33m\u001B[0m\u001B[1;33m\u001B[0m\u001B[0m\n",
      "\u001B[1;31mKeyboardInterrupt\u001B[0m: "
     ]
    }
   ],
   "source": [
    "import paho.mqtt.client as mqtt\n",
    "import json\n",
    "import time\n",
    "\n",
    "def on_connect(client, userdata, flags, rc):\n",
    "    print(\"Connected with result code \" + str(rc))\n",
    "    for record in json_data:  # Iterate over the records in json_data\n",
    "        client.publish(\"your/topic\", json.dumps(record))\n",
    "        print(f\"Sent record: {record}\")  # Print the sent record\n",
    "        time.sleep(1)  # Wait for 1 second\n",
    "\n",
    "client = mqtt.Client()\n",
    "client.on_connect = on_connect\n",
    "\n",
    "client.username_pw_set(\"username\", \"password\")  # If required\n",
    "client.connect(\"127.0.0.1\", 1883, 60)\n",
    "\n",
    "client.loop_forever()"
   ],
   "metadata": {
    "collapsed": false
   }
  }
 ],
 "metadata": {
  "kernelspec": {
   "display_name": "Python 3",
   "language": "python",
   "name": "python3"
  },
  "language_info": {
   "codemirror_mode": {
    "name": "ipython",
    "version": 2
   },
   "file_extension": ".py",
   "mimetype": "text/x-python",
   "name": "python",
   "nbconvert_exporter": "python",
   "pygments_lexer": "ipython2",
   "version": "2.7.6"
  }
 },
 "nbformat": 4,
 "nbformat_minor": 0
}
