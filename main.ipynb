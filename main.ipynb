{
 "cells": [
  {
   "cell_type": "code",
   "execution_count": 1,
   "outputs": [],
   "source": [
    "import pandas as pd\n",
    "import os"
   ],
   "metadata": {
    "collapsed": false,
    "ExecuteTime": {
     "start_time": "2023-05-06T14:20:28.137373Z",
     "end_time": "2023-05-06T14:20:29.130017Z"
    }
   }
  },
  {
   "cell_type": "code",
   "execution_count": 2,
   "outputs": [],
   "source": [
    "csv_file = os.path.expanduser(\"~/Desktop/articles1.csv\")\n",
    "articles1 = pd.read_csv(csv_file, encoding=\"utf-8\")"
   ],
   "metadata": {
    "collapsed": false,
    "ExecuteTime": {
     "start_time": "2023-05-06T14:20:29.109476Z",
     "end_time": "2023-05-06T14:20:31.928545Z"
    }
   }
  },
  {
   "cell_type": "code",
   "execution_count": 3,
   "outputs": [],
   "source": [
    "csv_file = os.path.expanduser(\"~/Desktop/articles2.csv\")\n",
    "articles2 = pd.read_csv(csv_file, encoding=\"utf-8\")"
   ],
   "metadata": {
    "collapsed": false,
    "ExecuteTime": {
     "start_time": "2023-05-06T14:20:31.929576Z",
     "end_time": "2023-05-06T14:20:34.932332Z"
    }
   }
  },
  {
   "cell_type": "code",
   "execution_count": 4,
   "outputs": [],
   "source": [
    "csv_file = os.path.expanduser(\"~/Desktop/articles3.csv\")\n",
    "articles3 = pd.read_csv(csv_file, encoding=\"utf-8\")"
   ],
   "metadata": {
    "collapsed": false,
    "ExecuteTime": {
     "start_time": "2023-05-06T14:20:34.935412Z",
     "end_time": "2023-05-06T14:20:37.952532Z"
    }
   }
  },
  {
   "cell_type": "code",
   "execution_count": 5,
   "outputs": [],
   "source": [
    "merged_articles = pd.concat([articles1, articles2, articles3])"
   ],
   "metadata": {
    "collapsed": false,
    "ExecuteTime": {
     "start_time": "2023-05-06T14:20:37.941174Z",
     "end_time": "2023-05-06T14:20:38.008762Z"
    }
   }
  },
  {
   "cell_type": "code",
   "execution_count": 6,
   "outputs": [],
   "source": [
    "merged_articles.drop(columns=[\"Unnamed: 0\", \"id\", \"year\", \"month\"], inplace=True)"
   ],
   "metadata": {
    "collapsed": false,
    "ExecuteTime": {
     "start_time": "2023-05-06T14:20:38.037836Z",
     "end_time": "2023-05-06T14:20:38.074694Z"
    }
   }
  },
  {
   "cell_type": "code",
   "execution_count": 7,
   "outputs": [],
   "source": [
    "merged_articles['date'] = pd.to_datetime(merged_articles['date'])\n",
    "merged_articles = merged_articles.sort_values(by='date', ascending=True)"
   ],
   "metadata": {
    "collapsed": false,
    "ExecuteTime": {
     "start_time": "2023-05-06T14:20:38.049009Z",
     "end_time": "2023-05-06T14:20:38.155625Z"
    }
   }
  },
  {
   "cell_type": "code",
   "execution_count": 18,
   "outputs": [
    {
     "name": "stdout",
     "output_type": "stream",
     "text": [
      "['NPR' 'Talking Points Memo' 'Fox News' 'National Review' 'Guardian'\n",
      " 'Washington Post' 'CNN' 'Reuters' 'Breitbart' 'New York Post' 'Vox'\n",
      " 'New York Times' 'Business Insider' 'Buzzfeed News' 'Atlantic']\n"
     ]
    }
   ],
   "source": [
    "unique_publications = merged_articles['publication'].unique()\n",
    "print(unique_publications)"
   ],
   "metadata": {
    "collapsed": false,
    "ExecuteTime": {
     "start_time": "2023-05-06T13:49:20.680072Z",
     "end_time": "2023-05-06T13:49:20.771215Z"
    }
   }
  },
  {
   "cell_type": "code",
   "execution_count": 19,
   "outputs": [
    {
     "name": "stdout",
     "output_type": "stream",
     "text": [
      "Breitbart              23781\n",
      "New York Post          17493\n",
      "NPR                    11992\n",
      "CNN                    11488\n",
      "Washington Post        11114\n",
      "Reuters                10710\n",
      "Guardian                8681\n",
      "New York Times          7803\n",
      "Atlantic                7179\n",
      "Business Insider        6757\n",
      "National Review         6203\n",
      "Talking Points Memo     5214\n",
      "Vox                     4947\n",
      "Buzzfeed News           4854\n",
      "Fox News                4354\n",
      "Name: publication, dtype: int64\n"
     ]
    }
   ],
   "source": [
    "publication_counts = merged_articles['publication'].value_counts()\n",
    "print(publication_counts)"
   ],
   "metadata": {
    "collapsed": false,
    "ExecuteTime": {
     "start_time": "2023-05-06T13:54:12.198644Z",
     "end_time": "2023-05-06T13:54:12.256977Z"
    }
   }
  },
  {
   "cell_type": "code",
   "execution_count": 4,
   "outputs": [],
   "source": [
    "csv_file = os.path.expanduser(\"~/Desktop/abcnews-date-text.csv\")\n",
    "abcnews = pd.read_csv(csv_file, encoding=\"utf-8\")"
   ],
   "metadata": {
    "collapsed": false,
    "ExecuteTime": {
     "start_time": "2023-05-05T20:59:39.614243Z",
     "end_time": "2023-05-05T20:59:41.470587Z"
    }
   }
  },
  {
   "cell_type": "code",
   "execution_count": 8,
   "outputs": [],
   "source": [
    "json_string = merged_articles.to_json(orient=\"records\", date_format=\"iso\")"
   ],
   "metadata": {
    "collapsed": false,
    "ExecuteTime": {
     "start_time": "2023-05-06T14:20:38.158707Z",
     "end_time": "2023-05-06T14:20:42.676530Z"
    }
   }
  },
  {
   "cell_type": "code",
   "execution_count": 9,
   "outputs": [],
   "source": [
    "import json\n",
    "json_data = json.loads(json_string)"
   ],
   "metadata": {
    "collapsed": false,
    "ExecuteTime": {
     "start_time": "2023-05-06T14:20:46.156409Z",
     "end_time": "2023-05-06T14:20:46.161410Z"
    }
   }
  },
  {
   "cell_type": "code",
   "execution_count": 11,
   "outputs": [],
   "source": [
    "import pandas as pd\n",
    "\n",
    "# Convert json_data back to a DataFrame\n",
    "df = pd.DataFrame(json_data)\n",
    "\n",
    "# Convert the date column back to datetime format\n",
    "df['date'] = pd.to_datetime(df['date'])\n",
    "\n",
    "# Save the DataFrame to a CSV file\n",
    "df.to_csv(os.path.expanduser(\"~/Desktop/articles.csv\"), index=False)"
   ],
   "metadata": {
    "collapsed": false,
    "ExecuteTime": {
     "start_time": "2023-05-06T14:21:34.477419Z",
     "end_time": "2023-05-06T14:22:29.186700Z"
    }
   }
  },
  {
   "cell_type": "code",
   "execution_count": 11,
   "outputs": [
    {
     "name": "stdout",
     "output_type": "stream",
     "text": [
      "Connected with result code 0\n",
      "Sent test message: {'key': 'value'}\n"
     ]
    },
    {
     "ename": "KeyboardInterrupt",
     "evalue": "",
     "output_type": "error",
     "traceback": [
      "\u001B[1;31m---------------------------------------------------------------------------\u001B[0m",
      "\u001B[1;31mKeyboardInterrupt\u001B[0m                         Traceback (most recent call last)",
      "\u001B[1;32m~\\AppData\\Local\\Temp\\ipykernel_22620\\1591815074.py\u001B[0m in \u001B[0;36m<module>\u001B[1;34m\u001B[0m\n\u001B[0;32m     14\u001B[0m \u001B[0mclient\u001B[0m\u001B[1;33m.\u001B[0m\u001B[0mconnect\u001B[0m\u001B[1;33m(\u001B[0m\u001B[1;34m\"127.0.0.1\"\u001B[0m\u001B[1;33m,\u001B[0m \u001B[1;36m1883\u001B[0m\u001B[1;33m,\u001B[0m \u001B[1;36m60\u001B[0m\u001B[1;33m)\u001B[0m\u001B[1;33m\u001B[0m\u001B[1;33m\u001B[0m\u001B[0m\n\u001B[0;32m     15\u001B[0m \u001B[1;33m\u001B[0m\u001B[0m\n\u001B[1;32m---> 16\u001B[1;33m \u001B[0mclient\u001B[0m\u001B[1;33m.\u001B[0m\u001B[0mloop_forever\u001B[0m\u001B[1;33m(\u001B[0m\u001B[1;33m)\u001B[0m\u001B[1;33m\u001B[0m\u001B[1;33m\u001B[0m\u001B[0m\n\u001B[0m",
      "\u001B[1;32m~\\anaconda3\\lib\\site-packages\\paho\\mqtt\\client.py\u001B[0m in \u001B[0;36mloop_forever\u001B[1;34m(self, timeout, max_packets, retry_first_connection)\u001B[0m\n\u001B[0;32m   1754\u001B[0m             \u001B[0mrc\u001B[0m \u001B[1;33m=\u001B[0m \u001B[0mMQTT_ERR_SUCCESS\u001B[0m\u001B[1;33m\u001B[0m\u001B[1;33m\u001B[0m\u001B[0m\n\u001B[0;32m   1755\u001B[0m             \u001B[1;32mwhile\u001B[0m \u001B[0mrc\u001B[0m \u001B[1;33m==\u001B[0m \u001B[0mMQTT_ERR_SUCCESS\u001B[0m\u001B[1;33m:\u001B[0m\u001B[1;33m\u001B[0m\u001B[1;33m\u001B[0m\u001B[0m\n\u001B[1;32m-> 1756\u001B[1;33m                 \u001B[0mrc\u001B[0m \u001B[1;33m=\u001B[0m \u001B[0mself\u001B[0m\u001B[1;33m.\u001B[0m\u001B[0m_loop\u001B[0m\u001B[1;33m(\u001B[0m\u001B[0mtimeout\u001B[0m\u001B[1;33m)\u001B[0m\u001B[1;33m\u001B[0m\u001B[1;33m\u001B[0m\u001B[0m\n\u001B[0m\u001B[0;32m   1757\u001B[0m                 \u001B[1;31m# We don't need to worry about locking here, because we've\u001B[0m\u001B[1;33m\u001B[0m\u001B[1;33m\u001B[0m\u001B[0m\n\u001B[0;32m   1758\u001B[0m                 \u001B[1;31m# either called loop_forever() when in single threaded mode, or\u001B[0m\u001B[1;33m\u001B[0m\u001B[1;33m\u001B[0m\u001B[0m\n",
      "\u001B[1;32m~\\anaconda3\\lib\\site-packages\\paho\\mqtt\\client.py\u001B[0m in \u001B[0;36m_loop\u001B[1;34m(self, timeout)\u001B[0m\n\u001B[0;32m   1148\u001B[0m \u001B[1;33m\u001B[0m\u001B[0m\n\u001B[0;32m   1149\u001B[0m         \u001B[1;32mtry\u001B[0m\u001B[1;33m:\u001B[0m\u001B[1;33m\u001B[0m\u001B[1;33m\u001B[0m\u001B[0m\n\u001B[1;32m-> 1150\u001B[1;33m             \u001B[0msocklist\u001B[0m \u001B[1;33m=\u001B[0m \u001B[0mselect\u001B[0m\u001B[1;33m.\u001B[0m\u001B[0mselect\u001B[0m\u001B[1;33m(\u001B[0m\u001B[0mrlist\u001B[0m\u001B[1;33m,\u001B[0m \u001B[0mwlist\u001B[0m\u001B[1;33m,\u001B[0m \u001B[1;33m[\u001B[0m\u001B[1;33m]\u001B[0m\u001B[1;33m,\u001B[0m \u001B[0mtimeout\u001B[0m\u001B[1;33m)\u001B[0m\u001B[1;33m\u001B[0m\u001B[1;33m\u001B[0m\u001B[0m\n\u001B[0m\u001B[0;32m   1151\u001B[0m         \u001B[1;32mexcept\u001B[0m \u001B[0mTypeError\u001B[0m\u001B[1;33m:\u001B[0m\u001B[1;33m\u001B[0m\u001B[1;33m\u001B[0m\u001B[0m\n\u001B[0;32m   1152\u001B[0m             \u001B[1;31m# Socket isn't correct type, in likelihood connection is lost\u001B[0m\u001B[1;33m\u001B[0m\u001B[1;33m\u001B[0m\u001B[0m\n",
      "\u001B[1;31mKeyboardInterrupt\u001B[0m: "
     ]
    }
   ],
   "source": [
    "import paho.mqtt.client as mqtt\n",
    "import json\n",
    "\n",
    "def on_connect(client, userdata, flags, rc):\n",
    "    print(\"Connected with result code \" + str(rc))\n",
    "    test_message = {\"key\": \"value\"}  # Simple JSON message\n",
    "    client.publish(\"your/topic\", json.dumps(test_message))\n",
    "    print(\"Sent test message:\", test_message)\n",
    "\n",
    "client = mqtt.Client()\n",
    "client.on_connect = on_connect\n",
    "\n",
    "client.username_pw_set(\"username\", \"password\")  # If required\n",
    "client.connect(\"127.0.0.1\", 1883, 60)\n",
    "\n",
    "client.loop_forever()"
   ],
   "metadata": {
    "collapsed": false
   }
  },
  {
   "cell_type": "code",
   "execution_count": 9,
   "outputs": [
    {
     "name": "stdout",
     "output_type": "stream",
     "text": [
      "Connected with result code 0\n",
      "Sent record: {'publish_date': 20030219, 'headline_text': 'aba decides against community broadcasting licence'}\n",
      "Sent record: {'publish_date': 20030219, 'headline_text': 'act fire witnesses must be aware of defamation'}\n",
      "Sent record: {'publish_date': 20030219, 'headline_text': 'a g calls for infrastructure protection summit'}\n",
      "Sent record: {'publish_date': 20030219, 'headline_text': 'air nz staff in aust strike for pay rise'}\n",
      "Sent record: {'publish_date': 20030219, 'headline_text': 'air nz strike to affect australian travellers'}\n",
      "Sent record: {'publish_date': 20030219, 'headline_text': 'ambitious olsson wins triple jump'}\n",
      "Sent record: {'publish_date': 20030219, 'headline_text': 'antic delighted with record breaking barca'}\n",
      "Sent record: {'publish_date': 20030219, 'headline_text': 'aussie qualifier stosur wastes four memphis match'}\n",
      "Sent record: {'publish_date': 20030219, 'headline_text': 'aust addresses un security council over iraq'}\n",
      "Sent record: {'publish_date': 20030219, 'headline_text': 'australia is locked into war timetable opp'}\n",
      "Sent record: {'publish_date': 20030219, 'headline_text': 'australia to contribute 10 million in aid to iraq'}\n",
      "Sent record: {'publish_date': 20030219, 'headline_text': 'barca take record as robson celebrates birthday in'}\n",
      "Sent record: {'publish_date': 20030219, 'headline_text': 'bathhouse plans move ahead'}\n",
      "Sent record: {'publish_date': 20030219, 'headline_text': 'big hopes for launceston cycling championship'}\n",
      "Sent record: {'publish_date': 20030219, 'headline_text': 'big plan to boost paroo water supplies'}\n",
      "Sent record: {'publish_date': 20030219, 'headline_text': 'blizzard buries united states in bills'}\n",
      "Sent record: {'publish_date': 20030219, 'headline_text': 'brigadier dismisses reports troops harassed in'}\n",
      "Sent record: {'publish_date': 20030219, 'headline_text': 'british combat troops arriving daily in kuwait'}\n",
      "Sent record: {'publish_date': 20030219, 'headline_text': 'bryant leads lakers to double overtime win'}\n",
      "Sent record: {'publish_date': 20030219, 'headline_text': 'bushfire victims urged to see centrelink'}\n",
      "Sent record: {'publish_date': 20030219, 'headline_text': 'businesses should prepare for terrorist attacks'}\n",
      "Sent record: {'publish_date': 20030219, 'headline_text': 'calleri avenges final defeat to eliminate massu'}\n",
      "Sent record: {'publish_date': 20030219, 'headline_text': 'call for ethanol blend fuel to go ahead'}\n",
      "Sent record: {'publish_date': 20030219, 'headline_text': 'carews freak goal leaves roma in ruins'}\n",
      "Sent record: {'publish_date': 20030219, 'headline_text': 'cemeteries miss out on funds'}\n",
      "Sent record: {'publish_date': 20030219, 'headline_text': 'code of conduct toughens organ donation regulations'}\n",
      "Sent record: {'publish_date': 20030219, 'headline_text': 'commonwealth bank cuts fixed home loan rates'}\n",
      "Sent record: {'publish_date': 20030219, 'headline_text': 'community urged to help homeless youth'}\n",
      "Sent record: {'publish_date': 20030219, 'headline_text': 'council chief executive fails to secure position'}\n",
      "Sent record: {'publish_date': 20030219, 'headline_text': 'councillor to contest wollongong as independent'}\n",
      "Sent record: {'publish_date': 20030219, 'headline_text': 'council moves to protect tas heritage garden'}\n",
      "Sent record: {'publish_date': 20030219, 'headline_text': 'council welcomes ambulance levy decision'}\n",
      "Sent record: {'publish_date': 20030219, 'headline_text': 'council welcomes insurance breakthrough'}\n",
      "Sent record: {'publish_date': 20030219, 'headline_text': 'crean tells alp leadership critics to shut up'}\n",
      "Sent record: {'publish_date': 20030219, 'headline_text': 'dargo fire threat expected to rise'}\n",
      "Sent record: {'publish_date': 20030219, 'headline_text': 'death toll continues to climb in south korean subway'}\n",
      "Sent record: {'publish_date': 20030219, 'headline_text': 'dems hold plebiscite over iraqi conflict'}\n",
      "Sent record: {'publish_date': 20030219, 'headline_text': 'dent downs philippoussis in tie break thriller'}\n"
     ]
    },
    {
     "ename": "KeyboardInterrupt",
     "evalue": "",
     "output_type": "error",
     "traceback": [
      "\u001B[1;31m---------------------------------------------------------------------------\u001B[0m",
      "\u001B[1;31mKeyboardInterrupt\u001B[0m                         Traceback (most recent call last)",
      "\u001B[1;32m~\\AppData\\Local\\Temp\\ipykernel_15392\\2032424544.py\u001B[0m in \u001B[0;36m<module>\u001B[1;34m\u001B[0m\n\u001B[0;32m     16\u001B[0m \u001B[0mclient\u001B[0m\u001B[1;33m.\u001B[0m\u001B[0mconnect\u001B[0m\u001B[1;33m(\u001B[0m\u001B[1;34m\"127.0.0.1\"\u001B[0m\u001B[1;33m,\u001B[0m \u001B[1;36m1883\u001B[0m\u001B[1;33m,\u001B[0m \u001B[1;36m60\u001B[0m\u001B[1;33m)\u001B[0m\u001B[1;33m\u001B[0m\u001B[1;33m\u001B[0m\u001B[0m\n\u001B[0;32m     17\u001B[0m \u001B[1;33m\u001B[0m\u001B[0m\n\u001B[1;32m---> 18\u001B[1;33m \u001B[0mclient\u001B[0m\u001B[1;33m.\u001B[0m\u001B[0mloop_forever\u001B[0m\u001B[1;33m(\u001B[0m\u001B[1;33m)\u001B[0m\u001B[1;33m\u001B[0m\u001B[1;33m\u001B[0m\u001B[0m\n\u001B[0m",
      "\u001B[1;32m~\\anaconda3\\lib\\site-packages\\paho\\mqtt\\client.py\u001B[0m in \u001B[0;36mloop_forever\u001B[1;34m(self, timeout, max_packets, retry_first_connection)\u001B[0m\n\u001B[0;32m   1754\u001B[0m             \u001B[0mrc\u001B[0m \u001B[1;33m=\u001B[0m \u001B[0mMQTT_ERR_SUCCESS\u001B[0m\u001B[1;33m\u001B[0m\u001B[1;33m\u001B[0m\u001B[0m\n\u001B[0;32m   1755\u001B[0m             \u001B[1;32mwhile\u001B[0m \u001B[0mrc\u001B[0m \u001B[1;33m==\u001B[0m \u001B[0mMQTT_ERR_SUCCESS\u001B[0m\u001B[1;33m:\u001B[0m\u001B[1;33m\u001B[0m\u001B[1;33m\u001B[0m\u001B[0m\n\u001B[1;32m-> 1756\u001B[1;33m                 \u001B[0mrc\u001B[0m \u001B[1;33m=\u001B[0m \u001B[0mself\u001B[0m\u001B[1;33m.\u001B[0m\u001B[0m_loop\u001B[0m\u001B[1;33m(\u001B[0m\u001B[0mtimeout\u001B[0m\u001B[1;33m)\u001B[0m\u001B[1;33m\u001B[0m\u001B[1;33m\u001B[0m\u001B[0m\n\u001B[0m\u001B[0;32m   1757\u001B[0m                 \u001B[1;31m# We don't need to worry about locking here, because we've\u001B[0m\u001B[1;33m\u001B[0m\u001B[1;33m\u001B[0m\u001B[0m\n\u001B[0;32m   1758\u001B[0m                 \u001B[1;31m# either called loop_forever() when in single threaded mode, or\u001B[0m\u001B[1;33m\u001B[0m\u001B[1;33m\u001B[0m\u001B[0m\n",
      "\u001B[1;32m~\\anaconda3\\lib\\site-packages\\paho\\mqtt\\client.py\u001B[0m in \u001B[0;36m_loop\u001B[1;34m(self, timeout)\u001B[0m\n\u001B[0;32m   1162\u001B[0m \u001B[1;33m\u001B[0m\u001B[0m\n\u001B[0;32m   1163\u001B[0m         \u001B[1;32mif\u001B[0m \u001B[0mself\u001B[0m\u001B[1;33m.\u001B[0m\u001B[0m_sock\u001B[0m \u001B[1;32min\u001B[0m \u001B[0msocklist\u001B[0m\u001B[1;33m[\u001B[0m\u001B[1;36m0\u001B[0m\u001B[1;33m]\u001B[0m \u001B[1;32mor\u001B[0m \u001B[0mpending_bytes\u001B[0m \u001B[1;33m>\u001B[0m \u001B[1;36m0\u001B[0m\u001B[1;33m:\u001B[0m\u001B[1;33m\u001B[0m\u001B[1;33m\u001B[0m\u001B[0m\n\u001B[1;32m-> 1164\u001B[1;33m             \u001B[0mrc\u001B[0m \u001B[1;33m=\u001B[0m \u001B[0mself\u001B[0m\u001B[1;33m.\u001B[0m\u001B[0mloop_read\u001B[0m\u001B[1;33m(\u001B[0m\u001B[1;33m)\u001B[0m\u001B[1;33m\u001B[0m\u001B[1;33m\u001B[0m\u001B[0m\n\u001B[0m\u001B[0;32m   1165\u001B[0m             \u001B[1;32mif\u001B[0m \u001B[0mrc\u001B[0m \u001B[1;32mor\u001B[0m \u001B[0mself\u001B[0m\u001B[1;33m.\u001B[0m\u001B[0m_sock\u001B[0m \u001B[1;32mis\u001B[0m \u001B[1;32mNone\u001B[0m\u001B[1;33m:\u001B[0m\u001B[1;33m\u001B[0m\u001B[1;33m\u001B[0m\u001B[0m\n\u001B[0;32m   1166\u001B[0m                 \u001B[1;32mreturn\u001B[0m \u001B[0mrc\u001B[0m\u001B[1;33m\u001B[0m\u001B[1;33m\u001B[0m\u001B[0m\n",
      "\u001B[1;32m~\\anaconda3\\lib\\site-packages\\paho\\mqtt\\client.py\u001B[0m in \u001B[0;36mloop_read\u001B[1;34m(self, max_packets)\u001B[0m\n\u001B[0;32m   1554\u001B[0m             \u001B[1;32mif\u001B[0m \u001B[0mself\u001B[0m\u001B[1;33m.\u001B[0m\u001B[0m_sock\u001B[0m \u001B[1;32mis\u001B[0m \u001B[1;32mNone\u001B[0m\u001B[1;33m:\u001B[0m\u001B[1;33m\u001B[0m\u001B[1;33m\u001B[0m\u001B[0m\n\u001B[0;32m   1555\u001B[0m                 \u001B[1;32mreturn\u001B[0m \u001B[0mMQTT_ERR_NO_CONN\u001B[0m\u001B[1;33m\u001B[0m\u001B[1;33m\u001B[0m\u001B[0m\n\u001B[1;32m-> 1556\u001B[1;33m             \u001B[0mrc\u001B[0m \u001B[1;33m=\u001B[0m \u001B[0mself\u001B[0m\u001B[1;33m.\u001B[0m\u001B[0m_packet_read\u001B[0m\u001B[1;33m(\u001B[0m\u001B[1;33m)\u001B[0m\u001B[1;33m\u001B[0m\u001B[1;33m\u001B[0m\u001B[0m\n\u001B[0m\u001B[0;32m   1557\u001B[0m             \u001B[1;32mif\u001B[0m \u001B[0mrc\u001B[0m \u001B[1;33m>\u001B[0m \u001B[1;36m0\u001B[0m\u001B[1;33m:\u001B[0m\u001B[1;33m\u001B[0m\u001B[1;33m\u001B[0m\u001B[0m\n\u001B[0;32m   1558\u001B[0m                 \u001B[1;32mreturn\u001B[0m \u001B[0mself\u001B[0m\u001B[1;33m.\u001B[0m\u001B[0m_loop_rc_handle\u001B[0m\u001B[1;33m(\u001B[0m\u001B[0mrc\u001B[0m\u001B[1;33m)\u001B[0m\u001B[1;33m\u001B[0m\u001B[1;33m\u001B[0m\u001B[0m\n",
      "\u001B[1;32m~\\anaconda3\\lib\\site-packages\\paho\\mqtt\\client.py\u001B[0m in \u001B[0;36m_packet_read\u001B[1;34m(self)\u001B[0m\n\u001B[0;32m   2437\u001B[0m         \u001B[1;31m# All data for this packet is read.\u001B[0m\u001B[1;33m\u001B[0m\u001B[1;33m\u001B[0m\u001B[0m\n\u001B[0;32m   2438\u001B[0m         \u001B[0mself\u001B[0m\u001B[1;33m.\u001B[0m\u001B[0m_in_packet\u001B[0m\u001B[1;33m[\u001B[0m\u001B[1;34m'pos'\u001B[0m\u001B[1;33m]\u001B[0m \u001B[1;33m=\u001B[0m \u001B[1;36m0\u001B[0m\u001B[1;33m\u001B[0m\u001B[1;33m\u001B[0m\u001B[0m\n\u001B[1;32m-> 2439\u001B[1;33m         \u001B[0mrc\u001B[0m \u001B[1;33m=\u001B[0m \u001B[0mself\u001B[0m\u001B[1;33m.\u001B[0m\u001B[0m_packet_handle\u001B[0m\u001B[1;33m(\u001B[0m\u001B[1;33m)\u001B[0m\u001B[1;33m\u001B[0m\u001B[1;33m\u001B[0m\u001B[0m\n\u001B[0m\u001B[0;32m   2440\u001B[0m \u001B[1;33m\u001B[0m\u001B[0m\n\u001B[0;32m   2441\u001B[0m         \u001B[1;31m# Free data and reset values\u001B[0m\u001B[1;33m\u001B[0m\u001B[1;33m\u001B[0m\u001B[0m\n",
      "\u001B[1;32m~\\anaconda3\\lib\\site-packages\\paho\\mqtt\\client.py\u001B[0m in \u001B[0;36m_packet_handle\u001B[1;34m(self)\u001B[0m\n\u001B[0;32m   3037\u001B[0m             \u001B[1;32mreturn\u001B[0m \u001B[0mself\u001B[0m\u001B[1;33m.\u001B[0m\u001B[0m_handle_pubrel\u001B[0m\u001B[1;33m(\u001B[0m\u001B[1;33m)\u001B[0m\u001B[1;33m\u001B[0m\u001B[1;33m\u001B[0m\u001B[0m\n\u001B[0;32m   3038\u001B[0m         \u001B[1;32melif\u001B[0m \u001B[0mcmd\u001B[0m \u001B[1;33m==\u001B[0m \u001B[0mCONNACK\u001B[0m\u001B[1;33m:\u001B[0m\u001B[1;33m\u001B[0m\u001B[1;33m\u001B[0m\u001B[0m\n\u001B[1;32m-> 3039\u001B[1;33m             \u001B[1;32mreturn\u001B[0m \u001B[0mself\u001B[0m\u001B[1;33m.\u001B[0m\u001B[0m_handle_connack\u001B[0m\u001B[1;33m(\u001B[0m\u001B[1;33m)\u001B[0m\u001B[1;33m\u001B[0m\u001B[1;33m\u001B[0m\u001B[0m\n\u001B[0m\u001B[0;32m   3040\u001B[0m         \u001B[1;32melif\u001B[0m \u001B[0mcmd\u001B[0m \u001B[1;33m==\u001B[0m \u001B[0mSUBACK\u001B[0m\u001B[1;33m:\u001B[0m\u001B[1;33m\u001B[0m\u001B[1;33m\u001B[0m\u001B[0m\n\u001B[0;32m   3041\u001B[0m             \u001B[1;32mreturn\u001B[0m \u001B[0mself\u001B[0m\u001B[1;33m.\u001B[0m\u001B[0m_handle_suback\u001B[0m\u001B[1;33m(\u001B[0m\u001B[1;33m)\u001B[0m\u001B[1;33m\u001B[0m\u001B[1;33m\u001B[0m\u001B[0m\n",
      "\u001B[1;32m~\\anaconda3\\lib\\site-packages\\paho\\mqtt\\client.py\u001B[0m in \u001B[0;36m_handle_connack\u001B[1;34m(self)\u001B[0m\n\u001B[0;32m   3136\u001B[0m                                         flags_dict, reason, properties)\n\u001B[0;32m   3137\u001B[0m                     \u001B[1;32melse\u001B[0m\u001B[1;33m:\u001B[0m\u001B[1;33m\u001B[0m\u001B[1;33m\u001B[0m\u001B[0m\n\u001B[1;32m-> 3138\u001B[1;33m                         on_connect(\n\u001B[0m\u001B[0;32m   3139\u001B[0m                             self, self._userdata, flags_dict, result)\n\u001B[0;32m   3140\u001B[0m                 \u001B[1;32mexcept\u001B[0m \u001B[0mException\u001B[0m \u001B[1;32mas\u001B[0m \u001B[0merr\u001B[0m\u001B[1;33m:\u001B[0m\u001B[1;33m\u001B[0m\u001B[1;33m\u001B[0m\u001B[0m\n",
      "\u001B[1;32m~\\AppData\\Local\\Temp\\ipykernel_15392\\2032424544.py\u001B[0m in \u001B[0;36mon_connect\u001B[1;34m(client, userdata, flags, rc)\u001B[0m\n\u001B[0;32m      8\u001B[0m         \u001B[0mclient\u001B[0m\u001B[1;33m.\u001B[0m\u001B[0mpublish\u001B[0m\u001B[1;33m(\u001B[0m\u001B[1;34m\"your/topic\"\u001B[0m\u001B[1;33m,\u001B[0m \u001B[0mjson\u001B[0m\u001B[1;33m.\u001B[0m\u001B[0mdumps\u001B[0m\u001B[1;33m(\u001B[0m\u001B[0mrecord\u001B[0m\u001B[1;33m)\u001B[0m\u001B[1;33m)\u001B[0m\u001B[1;33m\u001B[0m\u001B[1;33m\u001B[0m\u001B[0m\n\u001B[0;32m      9\u001B[0m         \u001B[0mprint\u001B[0m\u001B[1;33m(\u001B[0m\u001B[1;34mf\"Sent record: {record}\"\u001B[0m\u001B[1;33m)\u001B[0m  \u001B[1;31m# Print the sent record\u001B[0m\u001B[1;33m\u001B[0m\u001B[1;33m\u001B[0m\u001B[0m\n\u001B[1;32m---> 10\u001B[1;33m         \u001B[0mtime\u001B[0m\u001B[1;33m.\u001B[0m\u001B[0msleep\u001B[0m\u001B[1;33m(\u001B[0m\u001B[1;36m1\u001B[0m\u001B[1;33m)\u001B[0m  \u001B[1;31m# Wait for 1 second\u001B[0m\u001B[1;33m\u001B[0m\u001B[1;33m\u001B[0m\u001B[0m\n\u001B[0m\u001B[0;32m     11\u001B[0m \u001B[1;33m\u001B[0m\u001B[0m\n\u001B[0;32m     12\u001B[0m \u001B[0mclient\u001B[0m \u001B[1;33m=\u001B[0m \u001B[0mmqtt\u001B[0m\u001B[1;33m.\u001B[0m\u001B[0mClient\u001B[0m\u001B[1;33m(\u001B[0m\u001B[1;33m)\u001B[0m\u001B[1;33m\u001B[0m\u001B[1;33m\u001B[0m\u001B[0m\n",
      "\u001B[1;31mKeyboardInterrupt\u001B[0m: "
     ]
    }
   ],
   "source": [
    "import paho.mqtt.client as mqtt\n",
    "import json\n",
    "import time\n",
    "\n",
    "def on_connect(client, userdata, flags, rc):\n",
    "    print(\"Connected with result code \" + str(rc))\n",
    "    for record in json_data:  # Iterate over the records in json_data\n",
    "        client.publish(\"your/topic\", json.dumps(record))\n",
    "        print(f\"Sent record: {record}\")  # Print the sent record\n",
    "        time.sleep(1)  # Wait for 1 second\n",
    "\n",
    "client = mqtt.Client()\n",
    "client.on_connect = on_connect\n",
    "\n",
    "client.username_pw_set(\"username\", \"password\")  # If required\n",
    "client.connect(\"127.0.0.1\", 1883, 60)\n",
    "\n",
    "client.loop_forever()"
   ],
   "metadata": {
    "collapsed": false
   }
  }
 ],
 "metadata": {
  "kernelspec": {
   "display_name": "Python 3",
   "language": "python",
   "name": "python3"
  },
  "language_info": {
   "codemirror_mode": {
    "name": "ipython",
    "version": 2
   },
   "file_extension": ".py",
   "mimetype": "text/x-python",
   "name": "python",
   "nbconvert_exporter": "python",
   "pygments_lexer": "ipython2",
   "version": "2.7.6"
  }
 },
 "nbformat": 4,
 "nbformat_minor": 0
}
